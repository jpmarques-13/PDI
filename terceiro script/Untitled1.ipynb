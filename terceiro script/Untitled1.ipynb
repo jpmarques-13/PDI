{
 "cells": [
  {
   "cell_type": "code",
   "execution_count": null,
   "metadata": {},
   "outputs": [],
   "source": [
    "clear all;clc;close all;%---Clear workspace and command window\n",
    "%---Read image form the specified path and assign it to In\n",
    "I = uigetfile({'*.jpg;*.tif;*.png;*.gif','All Image Files';'*.*','All Files' },'Select Image File');\n",
    "In = imread('ruido.jpg');%---Read iamge and assign it to In\n",
    "\n",
    "%% Filtro Gaussiano\n",
    "filtro = fspecial('gaussian',[5 5],1);\n",
    "Out = imfilter(In,filtro,'replicate');\n",
    "figure\n",
    "imshowpair(In,Out,'montage')\n",
    "title('filtro gaussiano')\n",
    "\n",
    "%% Filtro média\n",
    "filtro = fspecial('average',[3 3]);\n",
    "for c = 1:3\n",
    "Out = imfilter(In,filtro,'replicate');\n",
    "end\n",
    "figure\n",
    "imshowpair(In,Out,'montage')\n",
    "title('filtro media')\n",
    "\n",
    "%% Filtro mediana\n",
    "Out=mediana(In,3);\n",
    "figure \n",
    "imshowpair(In,Out,'montage')\n",
    "title('filtro mediana')\n",
    "\n",
    "%% Melhor setup\n",
    "\n",
    "Out = mediana(In,3);\n",
    "filtro = fspecial('gaussian',[5 5],1);\n",
    "Out = imfilter(Out,filtro,'replicate');\n",
    "figure\n",
    "imshowpair(In,Out,'montage')\n",
    "\n",
    "\n"
   ]
  },
  {
   "cell_type": "code",
   "execution_count": null,
   "metadata": {},
   "outputs": [],
   "source": [
    "    "
   ]
  }
 ],
 "metadata": {
  "kernelspec": {
   "display_name": "Matlab",
   "language": "matlab",
   "name": "matlab"
  },
  "language_info": {
   "codemirror_mode": "octave",
   "file_extension": ".m",
   "help_links": [
    {
     "text": "MetaKernel Magics",
     "url": "https://metakernel.readthedocs.io/en/latest/source/README.html"
    }
   ],
   "mimetype": "text/x-octave",
   "name": "matlab",
   "version": "0.16.7"
  }
 },
 "nbformat": 4,
 "nbformat_minor": 2
}
